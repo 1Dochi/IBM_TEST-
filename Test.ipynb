{
 "cells": [
  {
   "cell_type": "markdown",
   "id": "b926dbf5",
   "metadata": {},
   "source": [
    "# My Jupyter Notebook on IBM Watson Studio"
   ]
  },
  {
   "cell_type": "markdown",
   "id": "c543a557",
   "metadata": {},
   "source": [
    "<b> Ahmed Al-Sudani"
   ]
  },
  {
   "cell_type": "markdown",
   "id": "c1412876",
   "metadata": {},
   "source": [
    "*I am interested in data science because I love to work with data*"
   ]
  },
  {
   "cell_type": "markdown",
   "id": "cbf17469",
   "metadata": {},
   "source": [
    "### cell5 will Print a string \"Hello IBM\"\n"
   ]
  },
  {
   "cell_type": "code",
   "execution_count": 2,
   "id": "ee0ee91a",
   "metadata": {},
   "outputs": [
    {
     "name": "stdout",
     "output_type": "stream",
     "text": [
      "Hello IBM\n"
     ]
    }
   ],
   "source": [
    "print (\"Hello IBM\")"
   ]
  },
  {
   "cell_type": "code",
   "execution_count": null,
   "id": "34ce49c4",
   "metadata": {},
   "outputs": [],
   "source": []
  }
 ],
 "metadata": {
  "kernelspec": {
   "display_name": "Python 3",
   "language": "python",
   "name": "python3"
  },
  "language_info": {
   "codemirror_mode": {
    "name": "ipython",
    "version": 3
   },
   "file_extension": ".py",
   "mimetype": "text/x-python",
   "name": "python",
   "nbconvert_exporter": "python",
   "pygments_lexer": "ipython3",
   "version": "3.8.8"
  }
 },
 "nbformat": 4,
 "nbformat_minor": 5
}
